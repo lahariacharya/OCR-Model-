{
 "cells": [
  {
   "cell_type": "code",
   "execution_count": 7,
   "id": "ca44ac75-77dd-42a5-9db1-060d2b4c1b22",
   "metadata": {},
   "outputs": [],
   "source": [
    "import cv2"
   ]
  },
  {
   "cell_type": "code",
   "execution_count": 8,
   "id": "35565409-6093-44a4-aaae-eb9ce5324314",
   "metadata": {},
   "outputs": [],
   "source": [
    "import pytesseract"
   ]
  },
  {
   "cell_type": "code",
   "execution_count": 9,
   "id": "dce80396-d9d9-4251-a8ce-da84a0e40bf0",
   "metadata": {},
   "outputs": [],
   "source": [
    "pytesseract.pytesseract.tesseract_cmd = r'Tesseract-OCR\\\\tesseract.exe'"
   ]
  },
  {
   "cell_type": "code",
   "execution_count": 10,
   "id": "1fe2b406-c40a-42ef-bdcd-ccf56860b580",
   "metadata": {},
   "outputs": [],
   "source": [
    "image = cv2.imread(r\"C:\\Users\\Lahari\\sampleimage.png\") #Enter the image here "
   ]
  },
  {
   "cell_type": "code",
   "execution_count": 13,
   "id": "c6124741-c52e-482f-aa91-6b9f8bd3ae35",
   "metadata": {},
   "outputs": [],
   "source": [
    "img = cv2.cvtColor(image,cv2.COLOR_BGR2RGB)\n"
   ]
  },
  {
   "cell_type": "code",
   "execution_count": 15,
   "id": "c1b5e845-f064-4d46-ac5a-429d485f9d8e",
   "metadata": {},
   "outputs": [
    {
     "name": "stdout",
     "output_type": "stream",
     "text": [
      "It was the best of\n",
      "times, it was the worst\n",
      "of times, it was the age\n",
      "of wisdom, it was the\n",
      "age of foolishness...\n",
      "\f",
      "\n"
     ]
    }
   ],
   "source": [
    "print(pytesseract.image_to_string(image))"
   ]
  },
  {
   "cell_type": "code",
   "execution_count": null,
   "id": "5048e1ad-c602-420a-a3e5-758ef5fa206c",
   "metadata": {},
   "outputs": [],
   "source": []
  }
 ],
 "metadata": {
  "kernelspec": {
   "display_name": "Python 3 (ipykernel)",
   "language": "python",
   "name": "python3"
  },
  "language_info": {
   "codemirror_mode": {
    "name": "ipython",
    "version": 3
   },
   "file_extension": ".py",
   "mimetype": "text/x-python",
   "name": "python",
   "nbconvert_exporter": "python",
   "pygments_lexer": "ipython3",
   "version": "3.9.7"
  }
 },
 "nbformat": 4,
 "nbformat_minor": 5
}
